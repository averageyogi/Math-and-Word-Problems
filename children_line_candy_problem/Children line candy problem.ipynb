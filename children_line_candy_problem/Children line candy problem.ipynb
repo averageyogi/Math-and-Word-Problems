{
 "cells": [
  {
   "cell_type": "markdown",
   "metadata": {},
   "source": [
    "<font size=3>There are N children in line. Each child is assigned a score.\n",
    "<br>Each child is given candy based on two rules:\n",
    "1. Each child must have at least one candy.\n",
    "2. Children with higher rating get more candies than their neighbors.\n",
    "\n",
    "What are the minimum candies you must give?"
   ]
  },
  {
   "cell_type": "code",
   "execution_count": 1,
   "metadata": {},
   "outputs": [],
   "source": [
    "from random import choices"
   ]
  },
  {
   "cell_type": "code",
   "execution_count": 2,
   "metadata": {},
   "outputs": [
    {
     "data": {
      "text/plain": [
       "[3, 10, 2, 4, 7, 4]"
      ]
     },
     "execution_count": 2,
     "metadata": {},
     "output_type": "execute_result"
    }
   ],
   "source": [
    "N = 6   # number of children in line\n",
    "S = 10  # score out of\n",
    "\n",
    "scores = choices(range(1,S+1),k=N)   # randomly assign each child score 1-S\n",
    "scores"
   ]
  },
  {
   "cell_type": "markdown",
   "metadata": {},
   "source": [
    "### Solution assuming local nearest neighbor (the two on either side):\n",
    "Related to score and placement."
   ]
  },
  {
   "cell_type": "code",
   "execution_count": 3,
   "metadata": {},
   "outputs": [
    {
     "name": "stdout",
     "output_type": "stream",
     "text": [
      "Scores:  [3, 10, 2, 4, 7, 4]\n",
      "Candies: [1, 2, 1, 2, 3, 1]\n",
      "Total candies: 10\n"
     ]
    }
   ],
   "source": [
    "candies_forward = [1]*N    # every child gets at least one candy\n",
    "candies_backward = [1]*N\n",
    "\n",
    "for i in range(1,len(scores)):\n",
    "    # check if score is higher than child in front/left\n",
    "    if (scores[i] > scores[i-1]):\n",
    "        candies_forward[i] = candies_forward[i-1] + 1\n",
    "    \n",
    "    # check if score is higher than child behind/right\n",
    "    if (scores[N-i-1] > scores[N-i]):\n",
    "        candies_backward[N-i-1] = candies_backward[N-i] + 1\n",
    "\n",
    "candies_final = [max(c_f,c_b) for c_f,c_b in zip(candies_forward, candies_backward)]  # element-wise maximum\n",
    "# candies_final = list(np.maximum(candies_forward,candies_backward)) # if you want to import numpy, \n",
    "#                                                                    # list() is just for printing to match\n",
    "\n",
    "print('Scores: ', scores)\n",
    "print('Candies:', candies_final)\n",
    "print('Total candies:', sum(candies_final))"
   ]
  },
  {
   "cell_type": "code",
   "execution_count": null,
   "metadata": {},
   "outputs": [],
   "source": []
  },
  {
   "cell_type": "markdown",
   "metadata": {},
   "source": [
    "### Solution assuming entire line consists of \"neighbors\":\n",
    "Related only to score."
   ]
  },
  {
   "cell_type": "code",
   "execution_count": 4,
   "metadata": {},
   "outputs": [],
   "source": [
    "import numpy as np"
   ]
  },
  {
   "cell_type": "code",
   "execution_count": 5,
   "metadata": {},
   "outputs": [
    {
     "name": "stdout",
     "output_type": "stream",
     "text": [
      "Scores:  [3, 10, 2, 4, 7, 4]\n",
      "Candies: [2, 5, 1, 3, 4, 3]\n",
      "Total candies: 18\n"
     ]
    }
   ],
   "source": [
    "candies = [1]*N\n",
    "score_sort_idx = np.argsort(scores)\n",
    "score_sort = np.array(scores)[score_sort_idx]\n",
    "count = 0\n",
    "\n",
    "for idx in range(len(scores)):\n",
    "    # sort scores\n",
    "    # if the score matches previous, num candies should be same, so add one less than count\n",
    "    if (idx > 0) and (score_sort[idx] == score_sort[idx-1]):\n",
    "        candies[score_sort_idx[idx]] += count-1\n",
    "        \n",
    "    # if score isn't same as previous, add current count and increment count\n",
    "    else:\n",
    "        candies[score_sort_idx[idx]] += count\n",
    "        count += 1\n",
    "\n",
    "print('Scores: ', scores)\n",
    "print('Candies:', candies)\n",
    "print('Total candies:', sum(candies))"
   ]
  },
  {
   "cell_type": "code",
   "execution_count": null,
   "metadata": {},
   "outputs": [],
   "source": []
  }
 ],
 "metadata": {
  "kernelspec": {
   "display_name": "Python 3",
   "language": "python",
   "name": "python3"
  },
  "language_info": {
   "codemirror_mode": {
    "name": "ipython",
    "version": 3
   },
   "file_extension": ".py",
   "mimetype": "text/x-python",
   "name": "python",
   "nbconvert_exporter": "python",
   "pygments_lexer": "ipython3",
   "version": "3.7.6"
  }
 },
 "nbformat": 4,
 "nbformat_minor": 4
}
