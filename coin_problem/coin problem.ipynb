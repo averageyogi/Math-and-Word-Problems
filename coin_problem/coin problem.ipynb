{
 "cells": [
  {
   "cell_type": "markdown",
   "metadata": {},
   "source": [
    "n coins in a row  \n",
    "given number a, choose a coins (one at a time) going from either end  \n",
    "such that the total value is maximized"
   ]
  },
  {
   "cell_type": "code",
   "execution_count": 1,
   "metadata": {},
   "outputs": [],
   "source": [
    "from random import choices, randint\n",
    "from numpy import argmax,array"
   ]
  },
  {
   "cell_type": "code",
   "execution_count": 2,
   "metadata": {},
   "outputs": [
    {
     "data": {
      "text/plain": [
       "array([100,   5,  25,  50,   1,  10,  25,  10, 100])"
      ]
     },
     "execution_count": 2,
     "metadata": {},
     "output_type": "execute_result"
    }
   ],
   "source": [
    "N = 9   # number of coins\n",
    "coin_values = [1, 5, 10, 25, 50, 100] # American denomination in cents\n",
    "\n",
    "coins = choices(coin_values,k=N)   # randomly assign row of coins\n",
    "coins = array(coins)\n",
    "coins"
   ]
  },
  {
   "cell_type": "code",
   "execution_count": 3,
   "metadata": {},
   "outputs": [
    {
     "data": {
      "text/plain": [
       "5"
      ]
     },
     "execution_count": 3,
     "metadata": {},
     "output_type": "execute_result"
    }
   ],
   "source": [
    "a = randint(2,N-1) # number of coins to pick (1 and N are boring choices)\n",
    "a"
   ]
  },
  {
   "cell_type": "code",
   "execution_count": null,
   "metadata": {},
   "outputs": [],
   "source": []
  },
  {
   "cell_type": "markdown",
   "metadata": {},
   "source": [
    "### Solution with time complexity O(n)"
   ]
  },
  {
   "cell_type": "code",
   "execution_count": 4,
   "metadata": {},
   "outputs": [],
   "source": [
    "# the possible coins to pick, going in at most 'a' from the edges\n",
    "options = [ coins[a-x] for x in range(1, (2*a)+1) ]\n",
    "\n",
    "# the possible choices of picking 'a' coins\n",
    "windows = [ options[i:i+a] for i in range(a+1) ]\n",
    "\n",
    "# select the window with maximum totals of each possible coin set choice\n",
    "selection = windows[argmax([sum(windows[x]) for x in range(len(windows))])]"
   ]
  },
  {
   "cell_type": "code",
   "execution_count": 5,
   "metadata": {},
   "outputs": [
    {
     "name": "stdout",
     "output_type": "stream",
     "text": [
      "Coins: [100, 5, 25, 50, 1, 10, 25, 10, 100]\n",
      "Choose 5 coins (one at a time) from either end to maximize value.\n",
      "\n",
      "Coins to choose (not necessarily in chosen order): [50, 25, 5, 100, 100]\n"
     ]
    }
   ],
   "source": [
    "print(f'Coins: {coins.tolist()}\\nChoose {a} coins (one at a time) from either end to maximize value.\\n')\n",
    "print(f'Coins to choose (not necessarily in chosen order): {selection}')"
   ]
  },
  {
   "cell_type": "code",
   "execution_count": null,
   "metadata": {},
   "outputs": [],
   "source": []
  },
  {
   "cell_type": "markdown",
   "metadata": {},
   "source": [
    "### Solution with time complexity O(n) and space complexity O(1) (no new lists/arrays)\n",
    "No nested loops. Space used is constant; it can't depend on the number of coins or the values."
   ]
  },
  {
   "cell_type": "code",
   "execution_count": 6,
   "metadata": {},
   "outputs": [
    {
     "data": {
      "text/plain": [
       "array([100,   5,  25,  50,   1,  10,  25,  10, 100])"
      ]
     },
     "execution_count": 6,
     "metadata": {},
     "output_type": "execute_result"
    }
   ],
   "source": [
    "coins"
   ]
  },
  {
   "cell_type": "code",
   "execution_count": 7,
   "metadata": {},
   "outputs": [
    {
     "data": {
      "text/plain": [
       "5"
      ]
     },
     "execution_count": 7,
     "metadata": {},
     "output_type": "execute_result"
    }
   ],
   "source": [
    "a"
   ]
  },
  {
   "cell_type": "code",
   "execution_count": 8,
   "metadata": {},
   "outputs": [],
   "source": [
    "coin_sum = 0\n",
    "coin_choice_start_idx = 0\n",
    "\n",
    "# start furthest in ('a' steps) on the right side, then check each possible window, wrapping around to the left side\n",
    "for i in range(-a,1):\n",
    "    if coin_sum < coins.take(range(i,i+a), mode='wrap').sum():  # not sure about space complexity of numpy.take\n",
    "        coin_sum = coins.take(range(i,i+a), mode='wrap').sum()\n",
    "        coin_choice_start_idx = i\n"
   ]
  },
  {
   "cell_type": "code",
   "execution_count": 9,
   "metadata": {},
   "outputs": [
    {
     "name": "stdout",
     "output_type": "stream",
     "text": [
      "Coins: [100, 5, 25, 50, 1, 10, 25, 10, 100]\n",
      "Choose 5 coins (one at a time) from either end to maximize value.\n",
      "\n",
      "Max value: 280\n",
      "Coins to choose (not necessarily in chosen order): [100, 100, 5, 25, 50]\n"
     ]
    }
   ],
   "source": [
    "print(f'Coins: {coins.tolist()}\\nChoose {a} coins (one at a time) from either end to maximize value.\\n')\n",
    "print(f'Max value: {coin_sum}')\n",
    "print(f\"Coins to choose (not necessarily in chosen order): \"\n",
    "      f\"{coins.take(range(coin_choice_start_idx,coin_choice_start_idx+a), mode='wrap').tolist()}\")"
   ]
  },
  {
   "cell_type": "code",
   "execution_count": null,
   "metadata": {},
   "outputs": [],
   "source": []
  },
  {
   "cell_type": "code",
   "execution_count": null,
   "metadata": {},
   "outputs": [],
   "source": []
  },
  {
   "cell_type": "code",
   "execution_count": null,
   "metadata": {},
   "outputs": [],
   "source": []
  },
  {
   "cell_type": "code",
   "execution_count": null,
   "metadata": {},
   "outputs": [],
   "source": []
  },
  {
   "cell_type": "code",
   "execution_count": null,
   "metadata": {},
   "outputs": [],
   "source": []
  },
  {
   "cell_type": "code",
   "execution_count": null,
   "metadata": {},
   "outputs": [],
   "source": []
  },
  {
   "cell_type": "code",
   "execution_count": null,
   "metadata": {},
   "outputs": [],
   "source": []
  },
  {
   "cell_type": "code",
   "execution_count": null,
   "metadata": {},
   "outputs": [],
   "source": []
  },
  {
   "cell_type": "markdown",
   "metadata": {},
   "source": [
    "## Tests"
   ]
  },
  {
   "cell_type": "code",
   "execution_count": 10,
   "metadata": {},
   "outputs": [],
   "source": [
    "# there are always a+1 choices of coins to pick (assuming a != N)         for i in range(a+1):\n",
    "# for each choice you have to select a coins from all coins                   for j in range(a):"
   ]
  },
  {
   "cell_type": "code",
   "execution_count": 11,
   "metadata": {},
   "outputs": [],
   "source": [
    "# coin_sum = 0\n",
    "# coin_choice = []  # this probably makes it O(n), maybe save an index then just print off 'a' numbers to list choice?\n",
    "\n",
    "# for i in range(a+1):\n",
    "    \n",
    "#     if coin_sum < (coins[i-a] + coins[i-a-1] + coins[i-a-2]):     # HOW DO YOU KNOW WHAT a IS? HOW MANY VALUES DO YOU NEED?\n",
    "#         coin_sum = coins[i-a] + coins[i-a-1] + coins[i-a-2]\n",
    "#         coin_choice = [coins[i-a], coins[i-a-1], coins[i-a-2]]\n",
    "    \n",
    "# print(f'Coins: {coins}\\nChoose {a} coins (one at a time) from either end to maximize value.\\n')\n",
    "# print(f'Max value: {coin_sum}\\nCoins to choose: {coin_choice}')\n",
    "\n",
    "    "
   ]
  },
  {
   "cell_type": "code",
   "execution_count": null,
   "metadata": {},
   "outputs": [],
   "source": []
  },
  {
   "cell_type": "code",
   "execution_count": null,
   "metadata": {},
   "outputs": [],
   "source": []
  },
  {
   "cell_type": "code",
   "execution_count": 12,
   "metadata": {},
   "outputs": [],
   "source": [
    "# k = l[(i + 1) % len(l)]\n",
    "#     l[i - (len(l)-1)]"
   ]
  },
  {
   "cell_type": "code",
   "execution_count": 13,
   "metadata": {},
   "outputs": [],
   "source": [
    "# list_element = my_list[idx % len(my_list)]"
   ]
  },
  {
   "cell_type": "code",
   "execution_count": 14,
   "metadata": {},
   "outputs": [
    {
     "name": "stdout",
     "output_type": "stream",
     "text": [
      "100 \t 5 \t 1\n",
      "5 \t 25 \t 2\n",
      "25 \t 50 \t 3\n",
      "50 \t 1 \t 4\n",
      "1 \t 10 \t 5\n",
      "10 \t 25 \t 6\n",
      "25 \t 10 \t 7\n",
      "10 \t 100 \t 8\n",
      "100 \t 100 \t 0\n"
     ]
    }
   ],
   "source": [
    "for i in range(len(coins)):\n",
    "    print(coins[i],'\\t', coins[(i + 1) % len(coins)],'\\t',((i + 1) % len(coins)))"
   ]
  },
  {
   "cell_type": "code",
   "execution_count": null,
   "metadata": {},
   "outputs": [],
   "source": []
  },
  {
   "cell_type": "code",
   "execution_count": null,
   "metadata": {},
   "outputs": [],
   "source": []
  },
  {
   "cell_type": "code",
   "execution_count": null,
   "metadata": {},
   "outputs": [],
   "source": []
  },
  {
   "cell_type": "code",
   "execution_count": 15,
   "metadata": {},
   "outputs": [],
   "source": [
    "def neg_mod(a,b):\n",
    "    if a%b > b/2:\n",
    "        return a%b - b\n",
    "    else:\n",
    "        return a%b"
   ]
  },
  {
   "cell_type": "code",
   "execution_count": 16,
   "metadata": {},
   "outputs": [
    {
     "name": "stdout",
     "output_type": "stream",
     "text": [
      " 1 % 12 =  1\n",
      " 2 % 12 =  2\n",
      " 3 % 12 =  3\n",
      " 4 % 12 =  4\n",
      " 5 % 12 =  5\n",
      " 6 % 12 =  6\n",
      " 7 % 12 = -5\n",
      " 8 % 12 = -4\n",
      " 9 % 12 = -3\n",
      "10 % 12 = -2\n",
      "11 % 12 = -1\n",
      "12 % 12 =  0\n",
      "13 % 12 =  1\n",
      "14 % 12 =  2\n",
      "15 % 12 =  3\n",
      "16 % 12 =  4\n",
      "17 % 12 =  5\n",
      "18 % 12 =  6\n",
      "19 % 12 = -5\n",
      "20 % 12 = -4\n",
      "21 % 12 = -3\n",
      "22 % 12 = -2\n",
      "23 % 12 = -1\n"
     ]
    }
   ],
   "source": [
    "# a = 23\n",
    "b = 12\n",
    "\n",
    "for test in range(1,24):\n",
    "    if test%b > b/2:\n",
    "        print(f'{test:2} % {b} = {test%b - b:2}')\n",
    "    else:\n",
    "        print(f'{test:2} % {b} = {test%b:2}')"
   ]
  },
  {
   "cell_type": "code",
   "execution_count": 17,
   "metadata": {},
   "outputs": [
    {
     "name": "stdout",
     "output_type": "stream",
     "text": [
      "100 \t 0\n",
      "5 \t 1\n",
      "25 \t 2\n",
      "50 \t 3\n",
      "1 \t 4\n",
      "10 \t -4\n",
      "25 \t -3\n",
      "10 \t -2\n",
      "100 \t -1\n"
     ]
    }
   ],
   "source": [
    "for i in range(len(coins)):\n",
    "    print(coins[neg_mod(i,len(coins))],'\\t',neg_mod(i,len(coins)))"
   ]
  },
  {
   "cell_type": "code",
   "execution_count": null,
   "metadata": {},
   "outputs": [],
   "source": []
  },
  {
   "cell_type": "code",
   "execution_count": null,
   "metadata": {},
   "outputs": [],
   "source": []
  },
  {
   "cell_type": "code",
   "execution_count": null,
   "metadata": {},
   "outputs": [],
   "source": []
  },
  {
   "cell_type": "code",
   "execution_count": 18,
   "metadata": {},
   "outputs": [],
   "source": [
    "# from itertools import cycle\n",
    "\n",
    "# lst = ['a', 'b', 'c']\n",
    "\n",
    "# pool = cycle(lst)"
   ]
  },
  {
   "cell_type": "code",
   "execution_count": 19,
   "metadata": {},
   "outputs": [],
   "source": [
    "# next(pool)"
   ]
  },
  {
   "cell_type": "code",
   "execution_count": null,
   "metadata": {},
   "outputs": [],
   "source": []
  },
  {
   "cell_type": "code",
   "execution_count": null,
   "metadata": {},
   "outputs": [],
   "source": []
  },
  {
   "cell_type": "code",
   "execution_count": null,
   "metadata": {},
   "outputs": [],
   "source": []
  },
  {
   "cell_type": "code",
   "execution_count": 20,
   "metadata": {},
   "outputs": [],
   "source": [
    "# def circular():\n",
    "#     while True:\n",
    "#         for connection in ['a', 'b', 'c']:\n",
    "#             yield connection\n",
    "            \n",
    "            \n",
    "# connections = circular()\n",
    "# next(connections) # 'a'\n",
    "# next(connections) # 'b'\n",
    "# next(connections) # 'c'\n",
    "# next(connections) # 'a'\n",
    "# next(connections) # 'b'\n",
    "# next(connections) # 'c'\n",
    "# next(connections) # 'a'\n",
    "# #...."
   ]
  },
  {
   "cell_type": "code",
   "execution_count": null,
   "metadata": {},
   "outputs": [],
   "source": []
  },
  {
   "cell_type": "code",
   "execution_count": null,
   "metadata": {},
   "outputs": [],
   "source": []
  },
  {
   "cell_type": "code",
   "execution_count": 21,
   "metadata": {},
   "outputs": [],
   "source": [
    "# conn = ['a', 'b', 'c', 'd', 'e', 'f']\n",
    "# conn_len = len(conn)\n",
    "# index = 0\n",
    "# while True:\n",
    "#     print(conn[index])\n",
    "#     index = (index + 1) % conn_len"
   ]
  },
  {
   "cell_type": "code",
   "execution_count": null,
   "metadata": {},
   "outputs": [],
   "source": []
  },
  {
   "cell_type": "code",
   "execution_count": null,
   "metadata": {},
   "outputs": [],
   "source": []
  },
  {
   "cell_type": "code",
   "execution_count": null,
   "metadata": {},
   "outputs": [],
   "source": []
  },
  {
   "cell_type": "code",
   "execution_count": null,
   "metadata": {},
   "outputs": [],
   "source": []
  },
  {
   "cell_type": "code",
   "execution_count": 22,
   "metadata": {},
   "outputs": [],
   "source": [
    "# l = ['a','b','c','d']\n",
    "# while True:\n",
    "#     print l[0]\n",
    "#     l.append(l.pop(0))"
   ]
  },
  {
   "cell_type": "code",
   "execution_count": null,
   "metadata": {},
   "outputs": [],
   "source": []
  },
  {
   "cell_type": "code",
   "execution_count": 23,
   "metadata": {},
   "outputs": [],
   "source": [
    "# l = ['a','b','c','d']\n",
    "# ll = len(l)\n",
    "# while True:\n",
    "#     for i in range(ll):\n",
    "#         print l[i]"
   ]
  },
  {
   "cell_type": "code",
   "execution_count": null,
   "metadata": {},
   "outputs": [],
   "source": []
  },
  {
   "cell_type": "code",
   "execution_count": 24,
   "metadata": {},
   "outputs": [],
   "source": [
    "# l = ['a','b','c','d']\n",
    "\n",
    "# while True:\n",
    "#     for i in l:\n",
    "#         print i"
   ]
  },
  {
   "cell_type": "code",
   "execution_count": null,
   "metadata": {},
   "outputs": [],
   "source": []
  },
  {
   "cell_type": "code",
   "execution_count": null,
   "metadata": {},
   "outputs": [],
   "source": []
  },
  {
   "cell_type": "code",
   "execution_count": null,
   "metadata": {},
   "outputs": [],
   "source": []
  },
  {
   "cell_type": "code",
   "execution_count": 25,
   "metadata": {},
   "outputs": [],
   "source": [
    "# coins"
   ]
  },
  {
   "cell_type": "code",
   "execution_count": 26,
   "metadata": {},
   "outputs": [],
   "source": [
    "# for i in range(a+2):\n",
    "#     print(coins[i], '\\t', coins[0-i-a], '\\t', coins[i-a+1])"
   ]
  },
  {
   "cell_type": "code",
   "execution_count": 27,
   "metadata": {},
   "outputs": [],
   "source": [
    "# for i in coins:\n",
    "#     yield i"
   ]
  },
  {
   "cell_type": "code",
   "execution_count": null,
   "metadata": {},
   "outputs": [],
   "source": []
  },
  {
   "cell_type": "code",
   "execution_count": null,
   "metadata": {},
   "outputs": [],
   "source": []
  },
  {
   "cell_type": "code",
   "execution_count": 28,
   "metadata": {},
   "outputs": [],
   "source": [
    "# import itertools\n",
    "# # itertools.islice(a_list, start, stop, step)\n",
    "# next(itertools.islice(coins,3))"
   ]
  },
  {
   "cell_type": "code",
   "execution_count": null,
   "metadata": {},
   "outputs": [],
   "source": []
  }
 ],
 "metadata": {
  "kernelspec": {
   "display_name": "Python 3",
   "language": "python",
   "name": "python3"
  },
  "language_info": {
   "codemirror_mode": {
    "name": "ipython",
    "version": 3
   },
   "file_extension": ".py",
   "mimetype": "text/x-python",
   "name": "python",
   "nbconvert_exporter": "python",
   "pygments_lexer": "ipython3",
   "version": "3.12.1"
  }
 },
 "nbformat": 4,
 "nbformat_minor": 4
}
